{
 "cells": [
  {
   "cell_type": "code",
   "execution_count": 57,
   "metadata": {},
   "outputs": [],
   "source": [
    "# read file\n",
    "\n",
    "text = open(\"sentences.txt\", \"r\")\n",
    "text = text.read().lower()"
   ]
  },
  {
   "cell_type": "code",
   "execution_count": 59,
   "metadata": {},
   "outputs": [],
   "source": [
    "#tokenization\n",
    "\n",
    "import re\n",
    "words = re.split('[^a-z]', text)\n",
    "\n",
    "while(\"\" in words) : \n",
    "    words.remove(\"\") "
   ]
  },
  {
   "cell_type": "code",
   "execution_count": 70,
   "metadata": {},
   "outputs": [],
   "source": [
    "#create dictionary\n",
    "\n",
    "count = {}\n",
    "for i in words:\n",
    "    count[i] = count.get(i, 0) + 1"
   ]
  },
  {
   "cell_type": "code",
   "execution_count": 74,
   "metadata": {
    "scrolled": true
   },
   "outputs": [],
   "source": [
    "#create matrix\n",
    "\n",
    "import numpy as np\n",
    "matrix = np.zeros((22, 254))"
   ]
  },
  {
   "cell_type": "code",
   "execution_count": 79,
   "metadata": {},
   "outputs": [],
   "source": [
    "# array = []\n",
    "# with open(\"sentences.txt\", \"r\").read().lower() as f:\n",
    "#     for line in f:\n",
    "#         array.append(line)\n",
    "# print(array)"
   ]
  },
  {
   "cell_type": "code",
   "execution_count": 80,
   "metadata": {},
   "outputs": [
    {
     "name": "stdout",
     "output_type": "stream",
     "text": [
      "['In comparison to dogs, cats have not undergone major changes during the domestication process.', 'As cat simply catenates streams of bytes, it can be also used to concatenate binary files, where it will just concatenate sequence of bytes.', 'A common interactive use of cat for a single file is to output the content of a file to standard output.', 'Cats can hear sounds too faint or too high in frequency for human ears, such as those made by mice and other small animals.', 'In one, people deliberately tamed cats in a process of artificial selection, as they were useful predators of vermin.', 'The domesticated cat and its closest wild ancestor are both diploid organisms that possess 38 chromosomes and roughly 20,000 genes.', 'Domestic cats are similar in size to the other members of the genus Felis, typically weighing between 4 and 5 kg (8.8 and 11.0 lb).', 'However, if the output is piped or redirected, cat is unnecessary.', 'cat with one named file is safer where human error is a concern - one wrong use of the default redirection symbol \">\" instead of \"<\" (often adjacent on keyboards) may permanently delete the file you were just needing to read.', 'In terms of legibility, a sequence of commands starting with cat and connected by pipes has a clear left-to-right flow of information.', 'Cat command is one of the basic commands that you learned when you started in the Unix / Linux world.', 'Using cat command, the lines received from stdin can be redirected to a new file using redirection symbols.', 'When you type simply cat command without any arguments, it just receives the stdin content and displays it in the stdout.', 'Leopard was released on October 26, 2007 as the successor of Tiger (version 10.4), and is available in two editions.', 'According to Apple, Leopard contains over 300 changes and enhancements over its predecessor, Mac OS X Tiger.', 'As of Mid 2010, some Apple computers have firmware factory installed which will no longer allow installation of Mac OS X Leopard.', 'Since Apple moved to using Intel processors in their computers, the OSx86 community has developed and now also allows Mac OS X Tiger and later releases to be installed on non-Apple x86-based computers.', \"OS X Mountain Lion was released on July 25, 2012 for purchase and download through Apple's Mac App Store, as part of a switch to releasing OS X versions online and every year.\", 'Apple has released a small patch for the three most recent versions of Safari running on OS X Yosemite, Mavericks, and Mountain Lion.', 'The Mountain Lion release marks the second time Apple has offered an incremental upgrade, rather than releasing a new cat entirely.', \"Mac OS X Mountain Lion installs in place, so you won't need to create a separate disk or run the installation off an external drive.\", \"The fifth major update to Mac OS X, Leopard, contains such a mountain of features - more than 300 by Apple's count.\"]\n"
     ]
    }
   ],
   "source": [
    "with open(\"sentences.txt\", \"r\") as file:\n",
    "    documents = file.read().splitlines()\n",
    "    \n",
    "print(documents)"
   ]
  },
  {
   "cell_type": "code",
   "execution_count": 84,
   "metadata": {},
   "outputs": [],
   "source": [
    "# Import the libraries we need\n",
    "from sklearn.feature_extraction.text import CountVectorizer\n",
    "import pandas as pd\n",
    "\n",
    "# Step 2. Design the Vocabulary\n",
    "# The default token pattern removes tokens of a single character. That's why we don't have the \"I\" and \"s\" tokens in the output\n",
    "# count_vectorizer = CountVectorizer()\n",
    "import re\n",
    "for i in documents:\n",
    "    words = re.split('[^a-z]', i)\n",
    "\n",
    "# while(\"\" in words) : \n",
    "#     words.remove(\"\") \n",
    "# Step 3. Create the Bag-of-Words Model\n",
    "# bag_of_words = count_vectorizer.fit_transform(documents)\n",
    "\n",
    "# Show the Bag-of-Words Model as a pandas DataFrame\n",
    "# feature_names = count_vectorizer.get_feature_names()\n",
    "# pd.DataFrame(bag_of_words.toarray(), columns = feature_names)"
   ]
  },
  {
   "cell_type": "code",
   "execution_count": 87,
   "metadata": {},
   "outputs": [
    {
     "name": "stdout",
     "output_type": "stream",
     "text": [
      "['In comparison to dogs, cats have not undergone major changes during the domestication process.', 'As cat simply catenates streams of bytes, it can be also used to concatenate binary files, where it will just concatenate sequence of bytes.', 'A common interactive use of cat for a single file is to output the content of a file to standard output.', 'Cats can hear sounds too faint or too high in frequency for human ears, such as those made by mice and other small animals.', 'In one, people deliberately tamed cats in a process of artificial selection, as they were useful predators of vermin.', 'The domesticated cat and its closest wild ancestor are both diploid organisms that possess 38 chromosomes and roughly 20,000 genes.', 'Domestic cats are similar in size to the other members of the genus Felis, typically weighing between 4 and 5 kg (8.8 and 11.0 lb).', 'However, if the output is piped or redirected, cat is unnecessary.', 'cat with one named file is safer where human error is a concern - one wrong use of the default redirection symbol \">\" instead of \"<\" (often adjacent on keyboards) may permanently delete the file you were just needing to read.', 'In terms of legibility, a sequence of commands starting with cat and connected by pipes has a clear left-to-right flow of information.', 'Cat command is one of the basic commands that you learned when you started in the Unix / Linux world.', 'Using cat command, the lines received from stdin can be redirected to a new file using redirection symbols.', 'When you type simply cat command without any arguments, it just receives the stdin content and displays it in the stdout.', 'Leopard was released on October 26, 2007 as the successor of Tiger (version 10.4), and is available in two editions.', 'According to Apple, Leopard contains over 300 changes and enhancements over its predecessor, Mac OS X Tiger.', 'As of Mid 2010, some Apple computers have firmware factory installed which will no longer allow installation of Mac OS X Leopard.', 'Since Apple moved to using Intel processors in their computers, the OSx86 community has developed and now also allows Mac OS X Tiger and later releases to be installed on non-Apple x86-based computers.', \"OS X Mountain Lion was released on July 25, 2012 for purchase and download through Apple's Mac App Store, as part of a switch to releasing OS X versions online and every year.\", 'Apple has released a small patch for the three most recent versions of Safari running on OS X Yosemite, Mavericks, and Mountain Lion.', 'The Mountain Lion release marks the second time Apple has offered an incremental upgrade, rather than releasing a new cat entirely.', \"Mac OS X Mountain Lion installs in place, so you won't need to create a separate disk or run the installation off an external drive.\", \"The fifth major update to Mac OS X, Leopard, contains such a mountain of features - more than 300 by Apple's count.\"]\n"
     ]
    }
   ],
   "source": [
    "print(documents)"
   ]
  },
  {
   "cell_type": "code",
   "execution_count": null,
   "metadata": {},
   "outputs": [],
   "source": []
  },
  {
   "cell_type": "code",
   "execution_count": 24,
   "metadata": {},
   "outputs": [
    {
     "name": "stdout",
     "output_type": "stream",
     "text": [
      "3.252216865271419 0.6352214195786656\n"
     ]
    }
   ],
   "source": [
    "import numpy as np\n",
    "import math\n",
    "from scipy.optimize import minimize\n",
    "\n",
    "def f(x):\n",
    "     return (math.sin(x/5) * math.exp(x/10) + 5 * math.exp(-x/2))\n",
    "    \n",
    "print(f(1), f(15))"
   ]
  },
  {
   "cell_type": "code",
   "execution_count": 2,
   "metadata": {},
   "outputs": [],
   "source": [
    "a = np.array([[1, 1], [1,15]])\n",
    "\n",
    "b = np.array([f(1), f(15)])\n",
    "\n",
    "from scipy import linalg\n",
    "\n",
    "x = linalg.solve(a, b)"
   ]
  },
  {
   "cell_type": "code",
   "execution_count": 3,
   "metadata": {},
   "outputs": [
    {
     "data": {
      "text/plain": [
       "array([ 3.43914511, -0.18692825])"
      ]
     },
     "execution_count": 3,
     "metadata": {},
     "output_type": "execute_result"
    }
   ],
   "source": [
    "x"
   ]
  },
  {
   "cell_type": "code",
   "execution_count": 11,
   "metadata": {},
   "outputs": [
    {
     "data": {
      "image/png": "[encoded data removed]",
      "text/plain": [
       "<Figure size 432x288 with 1 Axes>"
      ]
     },
     "metadata": {
      "needs_background": "light"
     },
     "output_type": "display_data"
    }
   ],
   "source": [
    "import matplotlib.pyplot as plt\n",
    "\n",
    "x = np.linspace(0, 15, 10)\n",
    "plt.figure()\n",
    "plt.plot(x, (np.sin(x/5) * np.exp(x/10) + 5 * np.exp(-x/2)))\n",
    "plt.plot(x, 3.44-0.19*x)\n",
    "\n",
    "plt.show()"
   ]
  },
  {
   "cell_type": "code",
   "execution_count": 13,
   "metadata": {},
   "outputs": [
    {
     "data": {
      "text/plain": [
       "array([ 3.32512949, -0.06531159, -0.00760104])"
      ]
     },
     "execution_count": 13,
     "metadata": {},
     "output_type": "execute_result"
    }
   ],
   "source": [
    "a = np.array([[1, 1, 1], [1, 8, 64], [1,15,225]])\n",
    "\n",
    "b = np.array([f(1), f(8), f(15)])\n",
    "\n",
    "from scipy import linalg\n",
    "\n",
    "x = linalg.solve(a, b)\n",
    "x"
   ]
  },
  {
   "cell_type": "code",
   "execution_count": 15,
   "metadata": {},
   "outputs": [
    {
     "data": {
      "image/png": "[encoded data removed]",
      "text/plain": [
       "<Figure size 432x288 with 1 Axes>"
      ]
     },
     "metadata": {
      "needs_background": "light"
     },
     "output_type": "display_data"
    }
   ],
   "source": [
    "import matplotlib.pyplot as plt\n",
    "\n",
    "x = np.linspace(0, 15, 10)\n",
    "plt.figure()\n",
    "plt.plot(x, (np.sin(x/5) * np.exp(x/10) + 5 * np.exp(-x/2)))\n",
    "plt.plot(x, 3.33-0.065*x-0.008*x**2)\n",
    "\n",
    "plt.show()"
   ]
  },
  {
   "cell_type": "code",
   "execution_count": 26,
   "metadata": {},
   "outputs": [
    {
     "name": "stdout",
     "output_type": "stream",
     "text": [
      "4.3626415\n",
      "-1.2955259\n",
      "0.1933368\n",
      "-0.0082357\n"
     ]
    }
   ],
   "source": [
    "a = np.array([[1.0, 1.0, 1.0, 1.0], [1.0, 4.0, 16.0, 64.0], [1.0, 10.0, 100.0, 1000.0], [1.0, 15.0, 225.0, 3375.0]])\n",
    "\n",
    "b = np.array([f(1), f(4), f(10), f(15)])\n",
    "\n",
    "from scipy import linalg\n",
    "\n",
    "x = linalg.solve(a, b)\n",
    "for i in x:\n",
    "    print(round(i,7))"
   ]
  },
  {
   "cell_type": "code",
   "execution_count": 21,
   "metadata": {},
   "outputs": [
    {
     "data": {
      "image/png": "[encoded data removed]",
      "text/plain": [
       "<Figure size 432x288 with 1 Axes>"
      ]
     },
     "metadata": {
      "needs_background": "light"
     },
     "output_type": "display_data"
    }
   ],
   "source": [
    "x = np.linspace(0, 15, 10)\n",
    "plt.figure()\n",
    "plt.plot(x, (np.sin(x/5) * np.exp(x/10) + 5 * np.exp(-x/2)))\n",
    "plt.plot(x, 3.79-0.54*x+0.003*x**2+0.001*x**3)\n",
    "\n",
    "plt.show()"
   ]
  },
  {
   "cell_type": "code",
   "execution_count": 20,
   "metadata": {},
   "outputs": [
    {
     "name": "stdout",
     "output_type": "stream",
     "text": [
      "The 1st closest sentence is a sentence #6 with a cosine distance of 0.73.\n",
      "The 2nd closest sentence is a sentence #4 with a cosine distance of 0.78.\n"
     ]
    }
   ],
   "source": [
    "from numpy import zeros, dot, savetxt\n",
    "from numpy.linalg import norm\n",
    " \n",
    "# Definition of a cosine distance function\n",
    "# according to scipy.spatial.distance.cosine function's description \n",
    "def cosine_distance(u, v):\n",
    "    return 1.0 - (dot(u, v) / (norm(u) * norm(v)))\n",
    " \n",
    "if __name__ == \"__main__\":\n",
    "    with open(\"sentences.txt\") as f:\n",
    "        # Let's determine a number of lines in a text file\n",
    "        lines = sum(1 for _ in f)\n",
    "        f.seek(0)\n",
    "        \n",
    "        import re\n",
    "        words = {}\n",
    "        # The 'lcount' variable controlls the index of a current line in the text file,\n",
    "        # when the 'wcount' variable controlls the index of a unique word.\n",
    "        lcount, wcount = 0, 0\n",
    "        for line in f:\n",
    "            # Here we compile a pattern object, read a line from the text file,\n",
    "            # and split it into tokens (words).\n",
    "            p = re.compile(r\"[^a-z]+\")\n",
    "            tokens = p.split(line.lower())\n",
    "            # In this case we will have only one empty token at the end of a list.\n",
    "            # Let's remove it.\n",
    "            tokens.pop()\n",
    "            for token in tokens:\n",
    "                # If a token is not presented in the dictionary yet then we add it.\n",
    "                # The value of the 'occurrences' entry is a list object where every item represents\n",
    "                # a specific line in the text file. The first item represents the first line, the second item\n",
    "                # represents the sencond line etc. \n",
    "                if token not in words:\n",
    "                    words[token] = {\n",
    "                        \"index\": wcount,\n",
    "                        \"occurrences\": [0] * lines\n",
    "                    }\n",
    "                    wcount += 1\n",
    "                # If we find the same token in the same list of tokens (in the same line)\n",
    "                # then we just ignore it.\n",
    "                elif words[token][\"occurrences\"][lcount] != 0:\n",
    "                    continue\n",
    "                \n",
    "                # Here we register how many times a token occured in a list of tokens (in a line)    \n",
    "                words[token][\"occurrences\"][lcount] = tokens.count(token)    \n",
    "            lcount += 1\n",
    "        \n",
    "        # Here we create a numpy-array, filled with zeros\n",
    "        arr = zeros((lines, len(words)))\n",
    "        \n",
    "        # Now for every word in the dictionary we take a number of its occurrences\n",
    "        # in every line and put it to the array.  \n",
    "        for word in words:\n",
    "            i, j = 0, words[word][\"index\"]\n",
    "            for occ in words[word][\"occurrences\"]:\n",
    "                arr[i, j] = occ\n",
    "                i += 1\n",
    "    \n",
    "        #savetxt(\"foo.csv\", arr, delimiter=\",\")\n",
    "        \n",
    "        # Finally we calculate a cosine distance between the first sentence (line) and\n",
    "        # other sentences in the text file\n",
    "        dist = [] \n",
    "        u = arr[0,] \n",
    "        for i in range(1, lines):\n",
    "            v = arr[i,]\n",
    "            dist.append({\"index\": i, \"distance\": cosine_distance(u, v)})    \n",
    "        \n",
    "        dist.sort(key=lambda x: x[\"distance\"])\n",
    "        print(\"The 1st closest sentence is a sentence #%d with a cosine distance of %.2f.\\n\"\\\n",
    "        \"The 2nd closest sentence is a sentence #%d with a cosine distance of %.2f.\" % (\n",
    "            dist[0][\"index\"],\n",
    "            dist[0][\"distance\"],\n",
    "            dist[1][\"index\"],\n",
    "            dist[1][\"distance\"]\n",
    "        ))"
   ]
  }
 ],
 "metadata": {
  "kernelspec": {
   "display_name": "Python 3",
   "language": "python",
   "name": "python3"
  },
  "language_info": {
   "codemirror_mode": {
    "name": "ipython",
    "version": 3
   },
   "file_extension": ".py",
   "mimetype": "text/x-python",
   "name": "python",
   "nbconvert_exporter": "python",
   "pygments_lexer": "ipython3",
   "version": "3.7.6"
  }
 },
 "nbformat": 4,
 "nbformat_minor": 4
}
